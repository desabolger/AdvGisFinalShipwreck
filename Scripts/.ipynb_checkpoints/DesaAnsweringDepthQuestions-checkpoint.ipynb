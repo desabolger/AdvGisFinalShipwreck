{
 "cells": [
  {
   "cell_type": "code",
   "execution_count": null,
   "id": "12ce31b9",
   "metadata": {
    "scrolled": true
   },
   "outputs": [],
   "source": [
    "### Desa Bolger and Emma Beyer\n",
    "### Add more info here, email address etc.\n",
    "\n",
    "#The goal of this document is to answer the question: What is the most common depth range for these wrecks?"
   ]
  },
  {
   "cell_type": "code",
   "execution_count": null,
   "id": "a2bb8a50",
   "metadata": {},
   "outputs": [],
   "source": [
    "#Read in the packages\n",
    "import pandas as pd\n",
    "import geopandas as gpd\n",
    "from shapely.geometry import Point\n",
    "import matplotlib.pyplot as plt"
   ]
  },
  {
   "cell_type": "code",
   "execution_count": null,
   "id": "34ae3b3e",
   "metadata": {},
   "outputs": [],
   "source": [
    "#read in file that has wrecks with bathymetry data in NC EEZ (from ArcGIS model DepthAnalysis)\n",
    "NCwreck = gpd.read_file('../Data/Processed/ONLYncWRECKS.shp')\n",
    "\n",
    "#confirm the data looks okay after the migration to python\n",
    "NCwreck.head()"
   ]
  },
  {
   "cell_type": "code",
   "execution_count": null,
   "id": "5b86ca47",
   "metadata": {},
   "outputs": [],
   "source": [
    "#just curious about how many wrecks are included in this\n",
    "NCwreck.shape #3462, 27"
   ]
  },
  {
   "cell_type": "code",
   "execution_count": null,
   "id": "80f020b7",
   "metadata": {},
   "outputs": [],
   "source": [
    "#Visualize depth counts graphically\n",
    "\n",
    "#Make an order by depth, as they were not from lowest to highest on first try\n",
    "custom_order = ['Land', '0-200 metres in depth', '201-500 metres in depth', '501-2500 metres in depth', '>2500 metres in depth']\n",
    "\n",
    "#apply this rankiing to \"RANGE\" column\n",
    "NCwreck['RANGE'] = pd.Categorical(NCwreck['RANGE'], categories=custom_order, ordered=True)\n",
    "\n",
    "#Count how many times each depth grouping occurred\n",
    "range_counts = NCwreck.groupby('RANGE').size()\n",
    "\n",
    "#plot!\n",
    "range_counts.plot(kind='bar', color='black', edgecolor='black')\n",
    "\n",
    "#add labels and titles!\n",
    "plt.xlabel('Bathymetric Range of Wrecks')\n",
    "plt.xticks(rotation=45, ha = \"right\", va = 'top')\n",
    "plt.ylabel('Number of Occurences in NC Region')\n",
    "plt.title('Depths of North Carolina Wrecks')\n",
    "\n",
    "#I have heard this is important to make sure all aspects download to the final image.\n",
    "plt.tight_layout()\n",
    "\n",
    "#Downloading that graph for the storymap!\n",
    "plt.savefig('../Products/NC_Wrecks_Depths.png', dpi=300)\n",
    "\n",
    "#I want to see the graph!\n",
    "plt.show()"
   ]
  },
  {
   "cell_type": "code",
   "execution_count": null,
   "id": "4300852a",
   "metadata": {},
   "outputs": [],
   "source": [
    "#the rest (visualizing in a map...) is occuring in arcGIS -- I think those are prettier!"
   ]
  },
  {
   "cell_type": "code",
   "execution_count": null,
   "id": "02c84150",
   "metadata": {},
   "outputs": [],
   "source": []
  }
 ],
 "metadata": {
  "kernelspec": {
   "display_name": "Python 3 (ipykernel)",
   "language": "python",
   "name": "python3"
  },
  "language_info": {
   "codemirror_mode": {
    "name": "ipython",
    "version": 3
   },
   "file_extension": ".py",
   "mimetype": "text/x-python",
   "name": "python",
   "nbconvert_exporter": "python",
   "pygments_lexer": "ipython3",
   "version": "3.11.8"
  }
 },
 "nbformat": 4,
 "nbformat_minor": 5
}
