{
 "cells": [
  {
   "cell_type": "code",
   "execution_count": null,
   "id": "5cc9331d",
   "metadata": {},
   "outputs": [],
   "source": [
    "### Emma Beyer & Desa Bolger\n",
    "### emma.beyer@duke.edu & desa.bolger@duke.edu\n",
    "\n",
    "#The goal of this document is to explore the relation of wrecks in NC and presence of military bases\n",
    "\n",
    "#Read in packages\n",
    "import pandas as pd\n",
    "import geopandas as gpd\n",
    "from shapely.geometry import Point\n",
    "from shapely.geometry import Polygon\n",
    "import matplotlib.pyplot as plt"
   ]
  },
  {
   "cell_type": "code",
   "execution_count": null,
   "id": "7ee1f384",
   "metadata": {},
   "outputs": [],
   "source": [
    "#Read Wrecks in NC EEZ into a Pandas dataframe\n",
    "NC_Wrecks = gpd.read_file('../Data/Processed/ONLYncWRECKS.shp')\n",
    "NC_Wrecks.head()"
   ]
  },
  {
   "cell_type": "code",
   "execution_count": null,
   "id": "90364a56",
   "metadata": {},
   "outputs": [],
   "source": [
    "#Read Miliary Bases into a Pandas dataframe\n",
    "US_Bases = gpd.read_file('../Data/Raw/tl_2024_us_mil.shp')\n",
    "US_Bases.head()"
   ]
  },
  {
   "cell_type": "code",
   "execution_count": null,
   "id": "4ceedeb3",
   "metadata": {},
   "outputs": [],
   "source": [
    "#Check coordinate systems\n",
    "NC_Wrecks.crs == US_Bases.crs"
   ]
  },
  {
   "cell_type": "code",
   "execution_count": null,
   "id": "d4ac92a4",
   "metadata": {},
   "outputs": [],
   "source": [
    "#Change US_Bases to fit Wreck data\n",
    "print(\"Current CRS:\", US_Bases.crs)\n",
    "US_Bases = US_Bases.to_crs(\"EPSG:4326\")\n",
    "print(\"Current CRS:\", US_Bases.crs) \n",
    "\n",
    "#Recheck coordinate systems\n",
    "print(NC_Wrecks.crs == US_Bases.crs)"
   ]
  },
  {
   "cell_type": "code",
   "execution_count": null,
   "id": "418cab31",
   "metadata": {},
   "outputs": [],
   "source": [
    "#Read in NC counties into a Pandas dataframe\n",
    "NC_Waters = gpd.read_file('../Data/Processed/NCeezwithin200.shp')\n",
    "\n",
    "#Subset US Bases to only include the ones that touch NC Federal Waters\n",
    "NC_CoastalBases = gpd.sjoin(US_Bases, NC_Waters, how='inner', predicate='intersects')\n",
    "\n",
    "#Check new subset\n",
    "print(NC_CoastalBases.plot())\n",
    "\n",
    "#Save new NC Coastal Bases shapefile\n",
    "NC_CoastalBases.to_file(\"../Data/Processed/NC_CoastalBases.shp\")"
   ]
  },
  {
   "cell_type": "code",
   "execution_count": null,
   "id": "4e4c6b81",
   "metadata": {},
   "outputs": [],
   "source": [
    "#Create a 20 nm buffer of the Miliary Bases\n",
    "\n",
    "#Reproject NC_CoastalBases GeoDataFrame to a projected CRS (UTM zone 17N (EPSG:32617) for North Carolina)\n",
    "NC_CoastalBases_projected = NC_CoastalBases.to_crs(epsg=32617)\n",
    "\n",
    "#Create a 20 nm (92600 m) buffer around the military bases in the projected CRS\n",
    "NC_Bases_buffer_projected = NC_CoastalBases_projected.buffer(37040)  \n",
    "\n",
    "#Convert the buffer back to the original CRS \n",
    "NC_Bases_buffer_gdf = gpd.GeoDataFrame(geometry=NC_Bases_buffer_projected, crs=NC_CoastalBases_projected.crs)\n",
    "NC_Bases_buffer_gdf = NC_Bases_buffer_gdf.to_crs(NC_CoastalBases.crs)  \n",
    "\n",
    "#Plot the results\n",
    "NC_Bases_buffer_gdf.plot()"
   ]
  },
  {
   "cell_type": "code",
   "execution_count": null,
   "id": "b59dad53",
   "metadata": {},
   "outputs": [],
   "source": [
    "#Subset NC Wrecks to only include the ones that are within the 50 nm buffer\n",
    "WrecksWithinBuffer = gpd.sjoin(NC_Wrecks, NC_Bases_buffer_gdf, how='inner', predicate='within')\n",
    "\n",
    "#Check counts of wrecks\n",
    "print(f\"There were {len(WrecksWithinBuffer)} wrecks within 20 nm of North Carolina Mililary Bases.\")\n",
    "print(f\"There were {len(NC_Wrecks)} wrecks within the entire North Carolina Federal Waters.\")\n",
    "\n",
    "#Note that the new buffered points included duplicates and needs to be updates"
   ]
  },
  {
   "cell_type": "code",
   "execution_count": null,
   "id": "8892a86d",
   "metadata": {},
   "outputs": [],
   "source": [
    "#Remove the duplicated points\n",
    "Unique_WrecksWithinBuffer = WrecksWithinBuffer.drop_duplicates(subset='geometry')\n",
    "\n",
    "#Check the counts of wrecks again\n",
    "print(f\"There were {len(Unique_WrecksWithinBuffer)} wrecks within 20 nm of North Carolina Military Bases.\")\n",
    "print(f\"There were {len(NC_Wrecks)} wrecks within the entire North Carolina Federal Waters.\")\n",
    "print(f\"That means that {(len(Unique_WrecksWithinBuffer)) / (len(NC_Wrecks)) * 100}% of wrecks happened within 20 nm of a military base.\")"
   ]
  },
  {
   "cell_type": "code",
   "execution_count": null,
   "id": "e37b045d",
   "metadata": {},
   "outputs": [],
   "source": [
    "#Read in NC Federal Waters into a Pandas dataframe\n",
    "NC_EEZ = gpd.read_file('../Data/Processed/AreaOfInterest.shp')\n",
    "\n",
    "#Plot of Federal Waters\n",
    "ax = NC_EEZ.plot(color='lightblue', edgecolor='black', figsize=(10, 10))\n",
    "\n",
    "#Plot of All wrecks within federal waters\n",
    "NC_Wrecks.plot(ax=ax, color='lightgrey', edgecolor='black', markersize=20)\n",
    "\n",
    "#Plot of Wrecks within 20 nm of military bases\n",
    "Unique_WrecksWithinBuffer.plot(ax=ax, color='red', edgecolor='black', markersize=20)\n",
    "\n",
    "#Plot of Military Bases\n",
    "NC_CoastalBases.plot(ax=ax, color='yellow', edgecolor='black')\n",
    "plt.title('Wrecks within 20 nm of NC Mililary Bases')\n",
    "\n",
    "#Create custom legend\n",
    "handles = [\n",
    "    plt.Line2D([0], [0], marker='o', color='lightblue', label='Study Area', markersize=10),\n",
    "    plt.Line2D([0], [0], marker='o', color='lightgrey', label='Wrecks within Study Area', markersize=10),\n",
    "    plt.Line2D([0], [0], marker='o', color='red', label='Wrecks within 20 nm of Military Bases', markersize=10),\n",
    "    plt.Line2D([0], [0], marker='o', color='yellow', label='Military Bases', markersize=10)\n",
    "]\n",
    "\n",
    "#Adding the legend\n",
    "ax.legend(handles=handles, loc='upper left', title='Legend')\n",
    "\n",
    "#Save plot to png\n",
    "plt.savefig('../Products/NC_Military_Wrecks.png', dpi=300)"
   ]
  }
 ],
 "metadata": {
  "kernelspec": {
   "display_name": "Python 3 (ipykernel)",
   "language": "python",
   "name": "python3"
  },
  "language_info": {
   "codemirror_mode": {
    "name": "ipython",
    "version": 3
   },
   "file_extension": ".py",
   "mimetype": "text/x-python",
   "name": "python",
   "nbconvert_exporter": "python",
   "pygments_lexer": "ipython3",
   "version": "3.11.8"
  }
 },
 "nbformat": 4,
 "nbformat_minor": 5
}
