{
 "cells": [
  {
   "cell_type": "code",
   "execution_count": null,
   "id": "3c7e527d",
   "metadata": {},
   "outputs": [],
   "source": [
    "### Emma Beyer & Desa Bolger\n",
    "### emma.beyer@duke.edu & desa.bolger#duke.edu\n",
    "\n",
    "#The goal of this document is to explore the relation of wrecks in NC and years\n",
    "\n",
    "#Read in packages\n",
    "import pandas as pd\n",
    "import geopandas as gpd\n",
    "from shapely.geometry import Point\n",
    "import matplotlib.pyplot as plt"
   ]
  },
  {
   "cell_type": "code",
   "execution_count": null,
   "id": "2e933a9b",
   "metadata": {
    "scrolled": true
   },
   "outputs": [],
   "source": [
    "#Read Wrecks in NC Federal Waters into a Pandas dataframe\n",
    "NC_Wrecks = gpd.read_file('../Data/Processed/ONLYncWRECKS.shp')\n",
    "NC_Wrecks.head()"
   ]
  },
  {
   "cell_type": "code",
   "execution_count": null,
   "id": "fdfebf12",
   "metadata": {},
   "outputs": [],
   "source": [
    "#Summary data on the years of Interstate Wreaks\n",
    "NC_Wrecks['yearsunk'].describe()"
   ]
  },
  {
   "cell_type": "code",
   "execution_count": null,
   "id": "f835d2b3",
   "metadata": {},
   "outputs": [],
   "source": [
    "#Remove all the zero values and create a new DataFrame\n",
    "NC_Wrecks_nozeros = NC_Wrecks[NC_Wrecks['yearsunk'] != 0]\n",
    "\n",
    "#Report summary data of wreck years\n",
    "NC_Wrecks_nozeros['yearsunk'].describe()"
   ]
  },
  {
   "cell_type": "code",
   "execution_count": null,
   "id": "a2ee3130",
   "metadata": {},
   "outputs": [],
   "source": [
    "#Convert the year values to integers\n",
    "NC_Wrecks_nozeros['yearsunk'] = NC_Wrecks_nozeros['yearsunk'].astype(int)\n",
    "\n",
    "#Verify the changes\n",
    "NC_Wrecks_nozeros['yearsunk'].head()"
   ]
  },
  {
   "cell_type": "code",
   "execution_count": null,
   "id": "54b592d0",
   "metadata": {},
   "outputs": [],
   "source": [
    "#Change years into count values\n",
    "wreck_counts = NC_Wrecks_nozeros['yearsunk'].value_counts().sort_index()\n",
    "\n",
    "#Plot number of wrecks by year\n",
    "wreck_counts.plot(kind='bar')\n",
    "plt.xlabel('Year')\n",
    "plt.ylabel('Count')\n",
    "plt.title('Number of Wrecks in NC Federal Waters by Year')\n",
    "\n",
    "#Save plot png\n",
    "plt.savefig('../Products/NC_Wrecks_Years_Table.png', dpi=300)"
   ]
  },
  {
   "cell_type": "code",
   "execution_count": null,
   "id": "9d9de144",
   "metadata": {},
   "outputs": [],
   "source": [
    "#Read in NC Federal Waters polygon into a Pandas dataframe\n",
    "NC_EEZ = gpd.read_file('../Data/Processed/AreaOfInterest.shp')\n",
    "\n",
    "#Read in NC counties into a Pandas dataframe\n",
    "NC = gpd.read_file('../Data/Processed/NorthCarolinaLand.shp')\n",
    "\n",
    "#Plot of EEZ\n",
    "ax = NC_EEZ.plot(color='lightblue', edgecolor='black', figsize=(10, 10))\n",
    "\n",
    "#Plot of NC\n",
    "NC.plot(ax=ax, color='blue', edgecolor='black')\n",
    "\n",
    "#Plot of NC Wrecks with year data\n",
    "NC_Wrecks_nozeros.plot(ax=ax, color='red', edgecolor='black')\n",
    "plt.title('Wrecks with Year data within NC Federal Waters')\n",
    "\n",
    "# Create custom legend\n",
    "handles = [\n",
    "    plt.Line2D([0], [0], marker='o', color='blue', label='North Carolina', markersize=10),\n",
    "    plt.Line2D([0], [0], marker='o', color='lightblue', label='Study Area', markersize=10),\n",
    "    plt.Line2D([0], [0], marker='o', color='red', label='Wrecks with Year Data', markersize=10)\n",
    "]\n",
    "\n",
    "# Adding the legend\n",
    "ax.legend(handles=handles, loc='upper left', title='Legend')\n",
    "\n",
    "#Save plot to png\n",
    "plt.savefig('../Products/NC_Wrecks_Years_Plot.png', dpi=300)"
   ]
  },
  {
   "cell_type": "code",
   "execution_count": null,
   "id": "2ac9a27c",
   "metadata": {},
   "outputs": [],
   "source": []
  },
  {
   "cell_type": "code",
   "execution_count": null,
   "id": "ed1f1637",
   "metadata": {},
   "outputs": [],
   "source": []
  }
 ],
 "metadata": {
  "kernelspec": {
   "display_name": "Python 3 (ipykernel)",
   "language": "python",
   "name": "python3"
  },
  "language_info": {
   "codemirror_mode": {
    "name": "ipython",
    "version": 3
   },
   "file_extension": ".py",
   "mimetype": "text/x-python",
   "name": "python",
   "nbconvert_exporter": "python",
   "pygments_lexer": "ipython3",
   "version": "3.11.8"
  }
 },
 "nbformat": 4,
 "nbformat_minor": 5
}
