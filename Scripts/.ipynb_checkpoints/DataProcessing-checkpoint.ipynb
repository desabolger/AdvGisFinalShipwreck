{
 "cells": [
  {
   "cell_type": "code",
   "execution_count": null,
   "id": "0addd91d",
   "metadata": {},
   "outputs": [],
   "source": [
    "### Desa Bolger and Emma Beyer\n",
    "### Adv. GIS Final Project\n",
    "### Fall 2024 Python Script\n",
    "\n",
    "#The goal of this document is to process the data into something that will be workable in other python formats and ArcGIS.\n",
    "#I want to get everything downloaded and in WGS1984!"
   ]
  },
  {
   "cell_type": "code",
   "execution_count": null,
   "id": "9b2d1525",
   "metadata": {},
   "outputs": [],
   "source": [
    "#Read in the packages\n",
    "import pandas as pd\n",
    "import geopandas as gpd\n",
    "from shapely.geometry import Point\n",
    "import matplotlib.pyplot as plt"
   ]
  },
  {
   "cell_type": "code",
   "execution_count": null,
   "id": "78d5fa88",
   "metadata": {},
   "outputs": [],
   "source": [
    "#DOWNLOAD WRECK/OBSTRUCTION DATA\n",
    "\n",
    "#Read the CSV into a Pandas dataframe\n",
    "WrecksFile = gpd.read_file('../Data/Raw/Wrecks_and_Obstructions.shp')\n",
    "WrecksFile.head()\n",
    "\n",
    "#Get Coordinate System\n",
    "print(\"Current CRS:\", WrecksFile.crs)\n",
    "WrecksFile = WrecksFile.to_crs(\"EPSG:4326\")\n",
    "\n",
    "#Save file with the correct WGS1984\n",
    "WrecksFile.to_file(\"../Data/Processed/Wrecks_wgs1984.shp\")\n",
    "print(\"Current CRS:\", WrecksFile.crs) #good\n",
    "\n",
    "#Reveal the columns\n",
    "WrecksFile.columns"
   ]
  },
  {
   "cell_type": "code",
   "execution_count": null,
   "id": "4e3bc78c",
   "metadata": {
    "scrolled": true
   },
   "outputs": [],
   "source": [
    "#PLOT WRECKS DATA for my own visualization \n",
    "WrecksFile.plot(column = 'objectcate');"
   ]
  },
  {
   "cell_type": "code",
   "execution_count": null,
   "id": "48b77b78",
   "metadata": {},
   "outputs": [],
   "source": [
    "#DOWNLOAD EEZ DATA\n",
    "\n",
    "#Read the CSV into a Pandas dataframe\n",
    "EEZFile = gpd.read_file('../Data/Raw/eez.shp')\n",
    "EEZFile.head()\n",
    "\n",
    "#Get Coordinate System\n",
    "print(\"Current CRS:\", EEZFile.crs)\n",
    "EEZFile = EEZFile.to_crs(\"EPSG:4326\")\n",
    "\n",
    "#Save file with the correct WGS1984\n",
    "EEZFile.to_file(\"../Data/Processed/EEZ_wgs1984.shp\")\n",
    "print(\"Current CRS:\", EEZFile.crs) #good\n",
    "\n",
    "#Reveal the columns\n",
    "EEZFile.columns"
   ]
  },
  {
   "cell_type": "code",
   "execution_count": null,
   "id": "ac09b169",
   "metadata": {},
   "outputs": [],
   "source": [
    "#PLOT EEZ DATA for my own visualization\n",
    "EEZFile.plot(column = 'territory1');"
   ]
  },
  {
   "cell_type": "code",
   "execution_count": null,
   "id": "345289b5",
   "metadata": {},
   "outputs": [],
   "source": [
    "#DOWNLOAD NC BOUNDARY DATA\n",
    "\n",
    "#Read the CSV into a Pandas dataframe\n",
    "NCStateFile = gpd.read_file('../Data/Raw/NCcounty.shp')\n",
    "NCStateFile.head()\n",
    "\n",
    "#Get Coordinate System\n",
    "print(\"Current CRS:\", NCStateFile.crs) #good\n",
    "\n",
    "#Save file with the correct WGS1984\n",
    "NCStateFile.to_file(\"../Data/Processed/NC_wgs1984.shp\")\n",
    "\n",
    "#Reveal the columns\n",
    "NCStateFile.columns"
   ]
  },
  {
   "cell_type": "code",
   "execution_count": null,
   "id": "1574eab5",
   "metadata": {},
   "outputs": [],
   "source": [
    "#PLOT NC DATA for my own visualization\n",
    "\n",
    "#Separate by land, state water, boundary water\n",
    "NCStateWater = NCStateFile.dissolve(\n",
    "    'WATER')\n",
    "\n",
    "#Visualize data organization\n",
    "NCStateWater.head\n",
    "\n",
    "#Plot (for my own visualization) the NC land boundary\n",
    "water_type_LAND = NCStateFile[NCStateFile['WATER'] == 'A']\n",
    "water_type_LAND.plot()\n",
    "\n",
    "#Save LandFile\n",
    "water_type_LAND.to_file(\"../Data/Processed/NorthCarolinaLand.shp\")\n",
    "\n",
    "\n",
    "#Plot (for my own visualization) the NC boundary water\n",
    "water_type_O = NCStateFile[NCStateFile['WATER'] == 'O']\n",
    "water_type_O.plot()\n",
    "\n",
    "#Plot (for my own visualization) the NC inland water\n",
    "water_type_S = NCStateFile[NCStateFile['WATER'] == 'S']\n",
    "water_type_S.plot()"
   ]
  },
  {
   "cell_type": "code",
   "execution_count": null,
   "id": "5cb4d311",
   "metadata": {},
   "outputs": [],
   "source": [
    "#check coordinate systems\n",
    "NCStateFile.crs == EEZFile.crs #True\n",
    "WrecksFile.crs == EEZFile.crs #True\n",
    "WrecksFile.crs == NCStateFile.crs #True\n",
    "\n",
    "#All shapefiles are now in DATA/PROCCESED FOLDER & are WGS1984."
   ]
  },
  {
   "cell_type": "code",
   "execution_count": null,
   "id": "0013c644",
   "metadata": {
    "scrolled": true
   },
   "outputs": [],
   "source": [
    "#Make a 200 nautical mile buffer around NC\n",
    "\n",
    "#add in WGS1984 area\n",
    "NCland = gpd.read_file(\"../Data/Processed/NorthCarolinaLand.shp\")\n",
    "NCland.head()\n",
    "\n",
    "#Dissolve to one land mass!\n",
    "NClandDissolved = NCland.dissolve(by=\"WATER\") #they all have the same category for water so they will group together!\n",
    "\n",
    "#Get Coordinate System\n",
    "print(\"Current CRS:\", NClandDissolved.crs) #good \n",
    "\n",
    "#WGS1984 will not be accurate for distance, need to get in equal projection\n",
    "NClandDissolved = NClandDissolved.to_crs(\"EPSG:26918\")\n",
    "\n",
    "#get nautical miles in meters\n",
    "buffer_distance = 200 * 1852  # in meters\n",
    "\n",
    "# make my buffer!!!\n",
    "NClandDissolved[\"buffer_200nm\"] = NClandDissolved.geometry.buffer(buffer_distance)\n",
    "\n",
    "#reproject to WGS1984, just want the 200 buffer layer.\n",
    "NClandDissolved = NClandDissolved.set_geometry(\"buffer_200nm\").to_crs(\"EPSG:4326\")\n",
    "\n",
    "#visualize to confirm it worked\n",
    "ax = NClandDissolved.plot(color = \"blue\")\n",
    "NCland.plot(ax = ax, color = \"black\")\n",
    "plt.show() #ok that makes a buffer for sure!\n",
    "\n",
    "#I had two geometry columns - can only have 1!\n",
    "NClandDissolved = NClandDissolved.drop(columns=[\"geometry\"])\n",
    "\n",
    "#save buffer for other uses in ArcGIS\n",
    "NClandDissolved.to_file(\"../Data/Processed/NCBuffer.shp\")"
   ]
  },
  {
   "cell_type": "code",
   "execution_count": null,
   "id": "8bb2acb2",
   "metadata": {},
   "outputs": [],
   "source": []
  }
 ],
 "metadata": {
  "kernelspec": {
   "display_name": "Python 3 (ipykernel)",
   "language": "python",
   "name": "python3"
  },
  "language_info": {
   "codemirror_mode": {
    "name": "ipython",
    "version": 3
   },
   "file_extension": ".py",
   "mimetype": "text/x-python",
   "name": "python",
   "nbconvert_exporter": "python",
   "pygments_lexer": "ipython3",
   "version": "3.11.8"
  }
 },
 "nbformat": 4,
 "nbformat_minor": 5
}
