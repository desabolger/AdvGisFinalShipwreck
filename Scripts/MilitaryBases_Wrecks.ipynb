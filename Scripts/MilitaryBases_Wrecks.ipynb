{
 "cells": [
  {
   "cell_type": "code",
   "execution_count": 1,
   "id": "5cc9331d",
   "metadata": {},
   "outputs": [],
   "source": [
    "### Emma Beyer & Desa Bolger\n",
    "### emma.beyer@duke.edu & desa.bolger@duke.edu\n",
    "\n",
    "#The goal of this document is to explore the relation of wrecks in NC and presence of military bases\n",
    "\n",
    "#Read in packages\n",
    "import pandas as pd\n",
    "import geopandas as gpd\n",
    "from shapely.geometry import Point\n",
    "from shapely.geometry import Polygon\n",
    "import matplotlib.pyplot as plt"
   ]
  },
  {
   "cell_type": "code",
   "execution_count": 2,
   "id": "7ee1f384",
   "metadata": {},
   "outputs": [
    {
     "data": {
      "text/html": [
       "<div>\n",
       "<style scoped>\n",
       "    .dataframe tbody tr th:only-of-type {\n",
       "        vertical-align: middle;\n",
       "    }\n",
       "\n",
       "    .dataframe tbody tr th {\n",
       "        vertical-align: top;\n",
       "    }\n",
       "\n",
       "    .dataframe thead th {\n",
       "        text-align: right;\n",
       "    }\n",
       "</style>\n",
       "<table border=\"1\" class=\"dataframe\">\n",
       "  <thead>\n",
       "    <tr style=\"text-align: right;\">\n",
       "      <th></th>\n",
       "      <th>Join_Count</th>\n",
       "      <th>TARGET_FID</th>\n",
       "      <th>FID_Wrecks</th>\n",
       "      <th>positionqu</th>\n",
       "      <th>objectname</th>\n",
       "      <th>objectcate</th>\n",
       "      <th>yearsunk</th>\n",
       "      <th>comment</th>\n",
       "      <th>datasource</th>\n",
       "      <th>sourcereco</th>\n",
       "      <th>...</th>\n",
       "      <th>NEAR_DIST</th>\n",
       "      <th>UIDENT</th>\n",
       "      <th>DEPTH</th>\n",
       "      <th>RANGE</th>\n",
       "      <th>EDIT</th>\n",
       "      <th>EDIT_DATE</th>\n",
       "      <th>Shape_Le_1</th>\n",
       "      <th>Shape__Are</th>\n",
       "      <th>Shape__Len</th>\n",
       "      <th>geometry</th>\n",
       "    </tr>\n",
       "  </thead>\n",
       "  <tbody>\n",
       "    <tr>\n",
       "      <th>0</th>\n",
       "      <td>1</td>\n",
       "      <td>1</td>\n",
       "      <td>0</td>\n",
       "      <td>Low</td>\n",
       "      <td>HERCULES</td>\n",
       "      <td>wreck</td>\n",
       "      <td>0.0</td>\n",
       "      <td>00470 01 DATED 1923 24 NO.8824 - SCHOONER, 163...</td>\n",
       "      <td>AWOIS</td>\n",
       "      <td>AWOIS</td>\n",
       "      <td>...</td>\n",
       "      <td>0.0</td>\n",
       "      <td>12109</td>\n",
       "      <td>3</td>\n",
       "      <td>501-2500 metres in depth</td>\n",
       "      <td>NEW</td>\n",
       "      <td>20060000</td>\n",
       "      <td>1.116557e+08</td>\n",
       "      <td>4.352814e+12</td>\n",
       "      <td>1.116557e+08</td>\n",
       "      <td>POINT (-79.5831 30.71691)</td>\n",
       "    </tr>\n",
       "    <tr>\n",
       "      <th>1</th>\n",
       "      <td>1</td>\n",
       "      <td>2</td>\n",
       "      <td>0</td>\n",
       "      <td>Low</td>\n",
       "      <td>ESSO GETTYSBURG</td>\n",
       "      <td>wreck</td>\n",
       "      <td>0.0</td>\n",
       "      <td>00478 24 NO.1162 - TANKER, 10172 GT - SUNK 6/1...</td>\n",
       "      <td>AWOIS</td>\n",
       "      <td>AWOIS</td>\n",
       "      <td>...</td>\n",
       "      <td>0.0</td>\n",
       "      <td>12109</td>\n",
       "      <td>3</td>\n",
       "      <td>501-2500 metres in depth</td>\n",
       "      <td>NEW</td>\n",
       "      <td>20060000</td>\n",
       "      <td>1.116557e+08</td>\n",
       "      <td>4.352814e+12</td>\n",
       "      <td>1.116557e+08</td>\n",
       "      <td>POINT (-79.24976 31.00024)</td>\n",
       "    </tr>\n",
       "    <tr>\n",
       "      <th>2</th>\n",
       "      <td>1</td>\n",
       "      <td>3</td>\n",
       "      <td>0</td>\n",
       "      <td>Low</td>\n",
       "      <td>DAISY FORLIN</td>\n",
       "      <td>wreck</td>\n",
       "      <td>0.0</td>\n",
       "      <td>00479 01 1920 24 NO.8804 - 466 GT, SUNK 11/18/...</td>\n",
       "      <td>AWOIS</td>\n",
       "      <td>AWOIS</td>\n",
       "      <td>...</td>\n",
       "      <td>0.0</td>\n",
       "      <td>289909</td>\n",
       "      <td>1</td>\n",
       "      <td>0-200 metres in depth</td>\n",
       "      <td>NEW</td>\n",
       "      <td>20060000</td>\n",
       "      <td>3.649745e+08</td>\n",
       "      <td>6.383595e+12</td>\n",
       "      <td>3.649745e+08</td>\n",
       "      <td>POINT (-80.16646 31.00024)</td>\n",
       "    </tr>\n",
       "    <tr>\n",
       "      <th>3</th>\n",
       "      <td>1</td>\n",
       "      <td>4</td>\n",
       "      <td>0</td>\n",
       "      <td>None</td>\n",
       "      <td>None</td>\n",
       "      <td>wreck</td>\n",
       "      <td>0.0</td>\n",
       "      <td>None</td>\n",
       "      <td>US4GA11M.000</td>\n",
       "      <td>ENCAWPT</td>\n",
       "      <td>...</td>\n",
       "      <td>0.0</td>\n",
       "      <td>289909</td>\n",
       "      <td>1</td>\n",
       "      <td>0-200 metres in depth</td>\n",
       "      <td>NEW</td>\n",
       "      <td>20060000</td>\n",
       "      <td>3.649745e+08</td>\n",
       "      <td>6.383595e+12</td>\n",
       "      <td>3.649745e+08</td>\n",
       "      <td>POINT (-80.96661 31.31684)</td>\n",
       "    </tr>\n",
       "    <tr>\n",
       "      <th>4</th>\n",
       "      <td>1</td>\n",
       "      <td>5</td>\n",
       "      <td>0</td>\n",
       "      <td>Low</td>\n",
       "      <td>None</td>\n",
       "      <td>wreck</td>\n",
       "      <td>0.0</td>\n",
       "      <td>NM41/47(5360) WK OF A TUG, WILL BE MARKED WITH...</td>\n",
       "      <td>AWOIS</td>\n",
       "      <td>AWOIS</td>\n",
       "      <td>...</td>\n",
       "      <td>0.0</td>\n",
       "      <td>289909</td>\n",
       "      <td>1</td>\n",
       "      <td>0-200 metres in depth</td>\n",
       "      <td>NEW</td>\n",
       "      <td>20060000</td>\n",
       "      <td>3.649745e+08</td>\n",
       "      <td>6.383595e+12</td>\n",
       "      <td>3.649745e+08</td>\n",
       "      <td>POINT (-80.96648 31.3169)</td>\n",
       "    </tr>\n",
       "  </tbody>\n",
       "</table>\n",
       "<p>5 rows × 59 columns</p>\n",
       "</div>"
      ],
      "text/plain": [
       "   Join_Count  TARGET_FID  FID_Wrecks positionqu       objectname objectcate  \\\n",
       "0           1           1           0        Low         HERCULES      wreck   \n",
       "1           1           2           0        Low  ESSO GETTYSBURG      wreck   \n",
       "2           1           3           0        Low     DAISY FORLIN      wreck   \n",
       "3           1           4           0       None             None      wreck   \n",
       "4           1           5           0        Low             None      wreck   \n",
       "\n",
       "   yearsunk                                            comment    datasource  \\\n",
       "0       0.0  00470 01 DATED 1923 24 NO.8824 - SCHOONER, 163...         AWOIS   \n",
       "1       0.0  00478 24 NO.1162 - TANKER, 10172 GT - SUNK 6/1...         AWOIS   \n",
       "2       0.0  00479 01 1920 24 NO.8804 - 466 GT, SUNK 11/18/...         AWOIS   \n",
       "3       0.0                                               None  US4GA11M.000   \n",
       "4       0.0  NM41/47(5360) WK OF A TUG, WILL BE MARKED WITH...         AWOIS   \n",
       "\n",
       "  sourcereco  ...  NEAR_DIST  UIDENT  DEPTH                     RANGE  EDIT  \\\n",
       "0      AWOIS  ...        0.0   12109      3  501-2500 metres in depth   NEW   \n",
       "1      AWOIS  ...        0.0   12109      3  501-2500 metres in depth   NEW   \n",
       "2      AWOIS  ...        0.0  289909      1     0-200 metres in depth   NEW   \n",
       "3    ENCAWPT  ...        0.0  289909      1     0-200 metres in depth   NEW   \n",
       "4      AWOIS  ...        0.0  289909      1     0-200 metres in depth   NEW   \n",
       "\n",
       "  EDIT_DATE    Shape_Le_1    Shape__Are    Shape__Len  \\\n",
       "0  20060000  1.116557e+08  4.352814e+12  1.116557e+08   \n",
       "1  20060000  1.116557e+08  4.352814e+12  1.116557e+08   \n",
       "2  20060000  3.649745e+08  6.383595e+12  3.649745e+08   \n",
       "3  20060000  3.649745e+08  6.383595e+12  3.649745e+08   \n",
       "4  20060000  3.649745e+08  6.383595e+12  3.649745e+08   \n",
       "\n",
       "                     geometry  \n",
       "0   POINT (-79.5831 30.71691)  \n",
       "1  POINT (-79.24976 31.00024)  \n",
       "2  POINT (-80.16646 31.00024)  \n",
       "3  POINT (-80.96661 31.31684)  \n",
       "4   POINT (-80.96648 31.3169)  \n",
       "\n",
       "[5 rows x 59 columns]"
      ]
     },
     "execution_count": 2,
     "metadata": {},
     "output_type": "execute_result"
    }
   ],
   "source": [
    "#Read Wrecks in NC EEZ into a Pandas dataframe\n",
    "NC_Wrecks = gpd.read_file('../Data/Processed/ONLYncWRECKS.shp')\n",
    "NC_Wrecks.head()"
   ]
  },
  {
   "cell_type": "code",
   "execution_count": 3,
   "id": "90364a56",
   "metadata": {},
   "outputs": [
    {
     "data": {
      "text/html": [
       "<div>\n",
       "<style scoped>\n",
       "    .dataframe tbody tr th:only-of-type {\n",
       "        vertical-align: middle;\n",
       "    }\n",
       "\n",
       "    .dataframe tbody tr th {\n",
       "        vertical-align: top;\n",
       "    }\n",
       "\n",
       "    .dataframe thead th {\n",
       "        text-align: right;\n",
       "    }\n",
       "</style>\n",
       "<table border=\"1\" class=\"dataframe\">\n",
       "  <thead>\n",
       "    <tr style=\"text-align: right;\">\n",
       "      <th></th>\n",
       "      <th>AREAID</th>\n",
       "      <th>FULLNAME</th>\n",
       "      <th>MTFCC</th>\n",
       "      <th>ALAND</th>\n",
       "      <th>AWATER</th>\n",
       "      <th>INTPTLAT</th>\n",
       "      <th>INTPTLON</th>\n",
       "      <th>geometry</th>\n",
       "    </tr>\n",
       "  </thead>\n",
       "  <tbody>\n",
       "    <tr>\n",
       "      <th>0</th>\n",
       "      <td>110509768024</td>\n",
       "      <td>Tripler Army Medical Ctr</td>\n",
       "      <td>K2110</td>\n",
       "      <td>1443458</td>\n",
       "      <td>0</td>\n",
       "      <td>+21.3620086</td>\n",
       "      <td>-157.8896492</td>\n",
       "      <td>POLYGON ((-157.89816 21.3603, -157.89811 21.36...</td>\n",
       "    </tr>\n",
       "    <tr>\n",
       "      <th>1</th>\n",
       "      <td>110509767829</td>\n",
       "      <td>Makua Mil Res</td>\n",
       "      <td>K2110</td>\n",
       "      <td>17406401</td>\n",
       "      <td>0</td>\n",
       "      <td>+21.5307680</td>\n",
       "      <td>-158.2068764</td>\n",
       "      <td>POLYGON ((-158.24063 21.54513, -158.24056 21.5...</td>\n",
       "    </tr>\n",
       "    <tr>\n",
       "      <th>2</th>\n",
       "      <td>110435324283</td>\n",
       "      <td>Stone Ranch Mil Res</td>\n",
       "      <td>K2110</td>\n",
       "      <td>7440946</td>\n",
       "      <td>0</td>\n",
       "      <td>+41.3654109</td>\n",
       "      <td>-72.2716641</td>\n",
       "      <td>MULTIPOLYGON (((-72.26356 41.35362, -72.26342 ...</td>\n",
       "    </tr>\n",
       "    <tr>\n",
       "      <th>3</th>\n",
       "      <td>110507841923</td>\n",
       "      <td>Ng Havre de Grace Mil Res</td>\n",
       "      <td>K2110</td>\n",
       "      <td>304109</td>\n",
       "      <td>0</td>\n",
       "      <td>+39.5327115</td>\n",
       "      <td>-76.1041621</td>\n",
       "      <td>POLYGON ((-76.11008 39.53547, -76.10854 39.536...</td>\n",
       "    </tr>\n",
       "    <tr>\n",
       "      <th>4</th>\n",
       "      <td>110509768183</td>\n",
       "      <td>Aliamanu Mil Res</td>\n",
       "      <td>K2110</td>\n",
       "      <td>2104132</td>\n",
       "      <td>0</td>\n",
       "      <td>+21.3609483</td>\n",
       "      <td>-157.9117716</td>\n",
       "      <td>POLYGON ((-157.92377 21.35844, -157.92362 21.3...</td>\n",
       "    </tr>\n",
       "  </tbody>\n",
       "</table>\n",
       "</div>"
      ],
      "text/plain": [
       "         AREAID                   FULLNAME  MTFCC     ALAND  AWATER  \\\n",
       "0  110509768024   Tripler Army Medical Ctr  K2110   1443458       0   \n",
       "1  110509767829              Makua Mil Res  K2110  17406401       0   \n",
       "2  110435324283        Stone Ranch Mil Res  K2110   7440946       0   \n",
       "3  110507841923  Ng Havre de Grace Mil Res  K2110    304109       0   \n",
       "4  110509768183           Aliamanu Mil Res  K2110   2104132       0   \n",
       "\n",
       "      INTPTLAT      INTPTLON  \\\n",
       "0  +21.3620086  -157.8896492   \n",
       "1  +21.5307680  -158.2068764   \n",
       "2  +41.3654109   -72.2716641   \n",
       "3  +39.5327115   -76.1041621   \n",
       "4  +21.3609483  -157.9117716   \n",
       "\n",
       "                                            geometry  \n",
       "0  POLYGON ((-157.89816 21.3603, -157.89811 21.36...  \n",
       "1  POLYGON ((-158.24063 21.54513, -158.24056 21.5...  \n",
       "2  MULTIPOLYGON (((-72.26356 41.35362, -72.26342 ...  \n",
       "3  POLYGON ((-76.11008 39.53547, -76.10854 39.536...  \n",
       "4  POLYGON ((-157.92377 21.35844, -157.92362 21.3...  "
      ]
     },
     "execution_count": 3,
     "metadata": {},
     "output_type": "execute_result"
    }
   ],
   "source": [
    "#Read Miliary Bases into a Pandas dataframe\n",
    "US_Bases = gpd.read_file('../Data/Raw/tl_2024_us_mil.shp')\n",
    "US_Bases.head()"
   ]
  },
  {
   "cell_type": "code",
   "execution_count": 4,
   "id": "4ceedeb3",
   "metadata": {},
   "outputs": [
    {
     "data": {
      "text/plain": [
       "False"
      ]
     },
     "execution_count": 4,
     "metadata": {},
     "output_type": "execute_result"
    }
   ],
   "source": [
    "#Check coordinate systems\n",
    "NC_Wrecks.crs == US_Bases.crs"
   ]
  },
  {
   "cell_type": "code",
   "execution_count": 5,
   "id": "d4ac92a4",
   "metadata": {},
   "outputs": [
    {
     "name": "stdout",
     "output_type": "stream",
     "text": [
      "Current CRS: EPSG:4269\n",
      "Current CRS: EPSG:4326\n",
      "True\n"
     ]
    }
   ],
   "source": [
    "#Change US_Bases to fit Wreck data\n",
    "print(\"Current CRS:\", US_Bases.crs)\n",
    "US_Bases = US_Bases.to_crs(\"EPSG:4326\")\n",
    "print(\"Current CRS:\", US_Bases.crs) \n",
    "\n",
    "#Recheck coordinate systems\n",
    "print(NC_Wrecks.crs == US_Bases.crs)"
   ]
  },
  {
   "cell_type": "code",
   "execution_count": 6,
   "id": "418cab31",
   "metadata": {},
   "outputs": [
    {
     "name": "stdout",
     "output_type": "stream",
     "text": [
      "AxesSubplot(0.28786,0.11;0.449279x0.77)\n"
     ]
    },
    {
     "name": "stderr",
     "output_type": "stream",
     "text": [
      "C:\\Users\\ekb41\\AppData\\Local\\Temp\\ipykernel_9396\\2921294085.py:11: UserWarning: Column names longer than 10 characters will be truncated when saved to ESRI Shapefile.\n",
      "  NC_CoastalBases.to_file(\"../Data/Processed/NC_CoastalBases.shp\")\n",
      "C:\\Users\\ekb41\\AppData\\Local\\ESRI\\conda\\envs\\gis\\Lib\\site-packages\\pyogrio\\raw.py:723: RuntimeWarning: Normalized/laundered field name: 'index_right' to 'index_righ'\n",
      "  ogr_write(\n"
     ]
    },
    {
     "data": {
      "image/png": "[encoded data removed]",
      "text/plain": [
       "<Figure size 640x480 with 1 Axes>"
      ]
     },
     "metadata": {},
     "output_type": "display_data"
    }
   ],
   "source": [
    "#Read in NC counties into a Pandas dataframe\n",
    "NC_Waters = gpd.read_file('../Data/Processed/NCeezwithin200.shp')\n",
    "\n",
    "#Subset US Bases to only include the ones that touch NC Federal Waters\n",
    "NC_CoastalBases = gpd.sjoin(US_Bases, NC_Waters, how='inner', predicate='intersects')\n",
    "\n",
    "#Check new subset\n",
    "print(NC_CoastalBases.plot())\n",
    "\n",
    "#Save new NC Coastal Bases shapefile\n",
    "NC_CoastalBases.to_file(\"../Data/Processed/NC_CoastalBases.shp\")"
   ]
  },
  {
   "cell_type": "code",
   "execution_count": 7,
   "id": "4e4c6b81",
   "metadata": {},
   "outputs": [
    {
     "data": {
      "text/plain": [
       "<AxesSubplot: >"
      ]
     },
     "execution_count": 7,
     "metadata": {},
     "output_type": "execute_result"
    },
    {
     "data": {
      "image/png": "[encoded data removed]",
      "text/plain": [
       "<Figure size 640x480 with 1 Axes>"
      ]
     },
     "metadata": {},
     "output_type": "display_data"
    }
   ],
   "source": [
    "#Create a 20 nm buffer of the Miliary Bases\n",
    "\n",
    "#Reproject NC_CoastalBases GeoDataFrame to a projected CRS (UTM zone 17N (EPSG:32617) for North Carolina)\n",
    "NC_CoastalBases_projected = NC_CoastalBases.to_crs(epsg=32617)\n",
    "\n",
    "#Create a 20 nm (92600 m) buffer around the military bases in the projected CRS\n",
    "NC_Bases_buffer_projected = NC_CoastalBases_projected.buffer(37040)  \n",
    "\n",
    "#Convert the buffer back to the original CRS \n",
    "NC_Bases_buffer_gdf = gpd.GeoDataFrame(geometry=NC_Bases_buffer_projected, crs=NC_CoastalBases_projected.crs)\n",
    "NC_Bases_buffer_gdf = NC_Bases_buffer_gdf.to_crs(NC_CoastalBases.crs)  \n",
    "\n",
    "#Plot the results\n",
    "NC_Bases_buffer_gdf.plot()"
   ]
  },
  {
   "cell_type": "code",
   "execution_count": 8,
   "id": "b59dad53",
   "metadata": {},
   "outputs": [
    {
     "name": "stdout",
     "output_type": "stream",
     "text": [
      "There were 9035 wrecks within 20 nm of North Carolina Mililary Bases.\n",
      "There were 3464 wrecks within the entire North Carolina Federal Waters.\n"
     ]
    }
   ],
   "source": [
    "#Subset NC Wrecks to only include the ones that are within the 50 nm buffer\n",
    "WrecksWithinBuffer = gpd.sjoin(NC_Wrecks, NC_Bases_buffer_gdf, how='inner', predicate='within')\n",
    "\n",
    "#Check counts of wrecks\n",
    "print(f\"There were {len(WrecksWithinBuffer)} wrecks within 20 nm of North Carolina Mililary Bases.\")\n",
    "print(f\"There were {len(NC_Wrecks)} wrecks within the entire North Carolina Federal Waters.\")\n",
    "\n",
    "#Note that the new buffered points included duplicates and needs to be updates"
   ]
  },
  {
   "cell_type": "code",
   "execution_count": 9,
   "id": "8892a86d",
   "metadata": {},
   "outputs": [
    {
     "name": "stdout",
     "output_type": "stream",
     "text": [
      "There were 2559 wrecks within 20 nm of North Carolina Military Bases.\n",
      "There were 3464 wrecks within the entire North Carolina Federal Waters.\n",
      "That means that 73.87413394919169% of wrecks happened within 20 nm of a military base.\n"
     ]
    }
   ],
   "source": [
    "#Remove the duplicated points\n",
    "Unique_WrecksWithinBuffer = WrecksWithinBuffer.drop_duplicates(subset='geometry')\n",
    "\n",
    "#Check the counts of wrecks again\n",
    "print(f\"There were {len(Unique_WrecksWithinBuffer)} wrecks within 20 nm of North Carolina Military Bases.\")\n",
    "print(f\"There were {len(NC_Wrecks)} wrecks within the entire North Carolina Federal Waters.\")\n",
    "print(f\"That means that {(len(Unique_WrecksWithinBuffer)) / (len(NC_Wrecks)) * 100}% of wrecks happened within 20 nm of a military base.\")"
   ]
  },
  {
   "cell_type": "code",
   "execution_count": 10,
   "id": "e37b045d",
   "metadata": {},
   "outputs": [
    {
     "ename": "DataSourceError",
     "evalue": "../Data/Processed/NCBuffer.shp: No such file or directory",
     "output_type": "error",
     "traceback": [
      "\u001b[1;31m---------------------------------------------------------------------------\u001b[0m",
      "\u001b[1;31mDataSourceError\u001b[0m                           Traceback (most recent call last)",
      "\u001b[1;32m~\\AppData\\Local\\Temp\\ipykernel_9396\\716054178.py\u001b[0m in \u001b[0;36m<cell line: 0>\u001b[1;34m()\u001b[0m\n\u001b[0;32m      1\u001b[0m \u001b[1;31m#Read in NC Federal Waters into a Pandas dataframe\u001b[0m\u001b[1;33m\u001b[0m\u001b[1;33m\u001b[0m\u001b[0m\n\u001b[1;32m----> 2\u001b[1;33m \u001b[0mNC_EEZ\u001b[0m \u001b[1;33m=\u001b[0m \u001b[0mgpd\u001b[0m\u001b[1;33m.\u001b[0m\u001b[0mread_file\u001b[0m\u001b[1;33m(\u001b[0m\u001b[1;34m'../Data/Processed/NCBuffer.shp'\u001b[0m\u001b[1;33m)\u001b[0m\u001b[1;33m\u001b[0m\u001b[1;33m\u001b[0m\u001b[0m\n\u001b[0m\u001b[0;32m      3\u001b[0m \u001b[1;33m\u001b[0m\u001b[0m\n\u001b[0;32m      4\u001b[0m \u001b[1;31m#Plot of Federal Waters\u001b[0m\u001b[1;33m\u001b[0m\u001b[1;33m\u001b[0m\u001b[0m\n\u001b[0;32m      5\u001b[0m \u001b[0max\u001b[0m \u001b[1;33m=\u001b[0m \u001b[0mNC_EEZ\u001b[0m\u001b[1;33m.\u001b[0m\u001b[0mplot\u001b[0m\u001b[1;33m(\u001b[0m\u001b[0mcolor\u001b[0m\u001b[1;33m=\u001b[0m\u001b[1;34m'lightblue'\u001b[0m\u001b[1;33m,\u001b[0m \u001b[0medgecolor\u001b[0m\u001b[1;33m=\u001b[0m\u001b[1;34m'black'\u001b[0m\u001b[1;33m,\u001b[0m \u001b[0mfigsize\u001b[0m\u001b[1;33m=\u001b[0m\u001b[1;33m(\u001b[0m\u001b[1;36m10\u001b[0m\u001b[1;33m,\u001b[0m \u001b[1;36m10\u001b[0m\u001b[1;33m)\u001b[0m\u001b[1;33m)\u001b[0m\u001b[1;33m\u001b[0m\u001b[1;33m\u001b[0m\u001b[0m\n",
      "\u001b[1;32m~\\AppData\\Local\\ESRI\\conda\\envs\\gis\\Lib\\site-packages\\geopandas\\io\\file.py\u001b[0m in \u001b[0;36m_read_file\u001b[1;34m(filename, bbox, mask, columns, rows, engine, **kwargs)\u001b[0m\n\u001b[0;32m    292\u001b[0m \u001b[1;33m\u001b[0m\u001b[0m\n\u001b[0;32m    293\u001b[0m     \u001b[1;32mif\u001b[0m \u001b[0mengine\u001b[0m \u001b[1;33m==\u001b[0m \u001b[1;34m\"pyogrio\"\u001b[0m\u001b[1;33m:\u001b[0m\u001b[1;33m\u001b[0m\u001b[1;33m\u001b[0m\u001b[0m\n\u001b[1;32m--> 294\u001b[1;33m         return _read_file_pyogrio(\n\u001b[0m\u001b[0;32m    295\u001b[0m             \u001b[0mfilename\u001b[0m\u001b[1;33m,\u001b[0m \u001b[0mbbox\u001b[0m\u001b[1;33m=\u001b[0m\u001b[0mbbox\u001b[0m\u001b[1;33m,\u001b[0m \u001b[0mmask\u001b[0m\u001b[1;33m=\u001b[0m\u001b[0mmask\u001b[0m\u001b[1;33m,\u001b[0m \u001b[0mcolumns\u001b[0m\u001b[1;33m=\u001b[0m\u001b[0mcolumns\u001b[0m\u001b[1;33m,\u001b[0m \u001b[0mrows\u001b[0m\u001b[1;33m=\u001b[0m\u001b[0mrows\u001b[0m\u001b[1;33m,\u001b[0m \u001b[1;33m**\u001b[0m\u001b[0mkwargs\u001b[0m\u001b[1;33m\u001b[0m\u001b[1;33m\u001b[0m\u001b[0m\n\u001b[0;32m    296\u001b[0m         )\n",
      "\u001b[1;32m~\\AppData\\Local\\ESRI\\conda\\envs\\gis\\Lib\\site-packages\\geopandas\\io\\file.py\u001b[0m in \u001b[0;36m_read_file_pyogrio\u001b[1;34m(path_or_bytes, bbox, mask, rows, **kwargs)\u001b[0m\n\u001b[0;32m    545\u001b[0m         \u001b[0mkwargs\u001b[0m\u001b[1;33m[\u001b[0m\u001b[1;34m\"columns\"\u001b[0m\u001b[1;33m]\u001b[0m \u001b[1;33m=\u001b[0m \u001b[0mkwargs\u001b[0m\u001b[1;33m.\u001b[0m\u001b[0mpop\u001b[0m\u001b[1;33m(\u001b[0m\u001b[1;34m\"include_fields\"\u001b[0m\u001b[1;33m)\u001b[0m\u001b[1;33m\u001b[0m\u001b[1;33m\u001b[0m\u001b[0m\n\u001b[0;32m    546\u001b[0m \u001b[1;33m\u001b[0m\u001b[0m\n\u001b[1;32m--> 547\u001b[1;33m     \u001b[1;32mreturn\u001b[0m \u001b[0mpyogrio\u001b[0m\u001b[1;33m.\u001b[0m\u001b[0mread_dataframe\u001b[0m\u001b[1;33m(\u001b[0m\u001b[0mpath_or_bytes\u001b[0m\u001b[1;33m,\u001b[0m \u001b[0mbbox\u001b[0m\u001b[1;33m=\u001b[0m\u001b[0mbbox\u001b[0m\u001b[1;33m,\u001b[0m \u001b[1;33m**\u001b[0m\u001b[0mkwargs\u001b[0m\u001b[1;33m)\u001b[0m\u001b[1;33m\u001b[0m\u001b[1;33m\u001b[0m\u001b[0m\n\u001b[0m\u001b[0;32m    548\u001b[0m \u001b[1;33m\u001b[0m\u001b[0m\n\u001b[0;32m    549\u001b[0m \u001b[1;33m\u001b[0m\u001b[0m\n",
      "\u001b[1;32m~\\AppData\\Local\\ESRI\\conda\\envs\\gis\\Lib\\site-packages\\pyogrio\\geopandas.py\u001b[0m in \u001b[0;36mread_dataframe\u001b[1;34m(path_or_buffer, layer, encoding, columns, read_geometry, force_2d, skip_features, max_features, where, bbox, mask, fids, sql, sql_dialect, fid_as_index, use_arrow, on_invalid, arrow_to_pandas_kwargs, **kwargs)\u001b[0m\n\u001b[0;32m    263\u001b[0m         \u001b[1;31m# as numpy does not directly support timezones.\u001b[0m\u001b[1;33m\u001b[0m\u001b[1;33m\u001b[0m\u001b[0m\n\u001b[0;32m    264\u001b[0m         \u001b[0mkwargs\u001b[0m\u001b[1;33m[\u001b[0m\u001b[1;34m\"datetime_as_string\"\u001b[0m\u001b[1;33m]\u001b[0m \u001b[1;33m=\u001b[0m \u001b[1;32mTrue\u001b[0m\u001b[1;33m\u001b[0m\u001b[1;33m\u001b[0m\u001b[0m\n\u001b[1;32m--> 265\u001b[1;33m     result = read_func(\n\u001b[0m\u001b[0;32m    266\u001b[0m         \u001b[0mpath_or_buffer\u001b[0m\u001b[1;33m,\u001b[0m\u001b[1;33m\u001b[0m\u001b[1;33m\u001b[0m\u001b[0m\n\u001b[0;32m    267\u001b[0m         \u001b[0mlayer\u001b[0m\u001b[1;33m=\u001b[0m\u001b[0mlayer\u001b[0m\u001b[1;33m,\u001b[0m\u001b[1;33m\u001b[0m\u001b[1;33m\u001b[0m\u001b[0m\n",
      "\u001b[1;32m~\\AppData\\Local\\ESRI\\conda\\envs\\gis\\Lib\\site-packages\\pyogrio\\raw.py\u001b[0m in \u001b[0;36mread\u001b[1;34m(path_or_buffer, layer, encoding, columns, read_geometry, force_2d, skip_features, max_features, where, bbox, mask, fids, sql, sql_dialect, return_fids, datetime_as_string, **kwargs)\u001b[0m\n\u001b[0;32m    196\u001b[0m     \u001b[0mdataset_kwargs\u001b[0m \u001b[1;33m=\u001b[0m \u001b[0m_preprocess_options_key_value\u001b[0m\u001b[1;33m(\u001b[0m\u001b[0mkwargs\u001b[0m\u001b[1;33m)\u001b[0m \u001b[1;32mif\u001b[0m \u001b[0mkwargs\u001b[0m \u001b[1;32melse\u001b[0m \u001b[1;33m{\u001b[0m\u001b[1;33m}\u001b[0m\u001b[1;33m\u001b[0m\u001b[1;33m\u001b[0m\u001b[0m\n\u001b[0;32m    197\u001b[0m \u001b[1;33m\u001b[0m\u001b[0m\n\u001b[1;32m--> 198\u001b[1;33m     return ogr_read(\n\u001b[0m\u001b[0;32m    199\u001b[0m         \u001b[0mget_vsi_path_or_buffer\u001b[0m\u001b[1;33m(\u001b[0m\u001b[0mpath_or_buffer\u001b[0m\u001b[1;33m)\u001b[0m\u001b[1;33m,\u001b[0m\u001b[1;33m\u001b[0m\u001b[1;33m\u001b[0m\u001b[0m\n\u001b[0;32m    200\u001b[0m         \u001b[0mlayer\u001b[0m\u001b[1;33m=\u001b[0m\u001b[0mlayer\u001b[0m\u001b[1;33m,\u001b[0m\u001b[1;33m\u001b[0m\u001b[1;33m\u001b[0m\u001b[0m\n",
      "\u001b[1;32mpyogrio\\\\_io.pyx\u001b[0m in \u001b[0;36mpyogrio._io.ogr_read\u001b[1;34m()\u001b[0m\n",
      "\u001b[1;32mpyogrio\\\\_io.pyx\u001b[0m in \u001b[0;36mpyogrio._io.ogr_open\u001b[1;34m()\u001b[0m\n",
      "\u001b[1;31mDataSourceError\u001b[0m: ../Data/Processed/NCBuffer.shp: No such file or directory"
     ]
    }
   ],
   "source": [
    "#Read in NC Federal Waters into a Pandas dataframe\n",
    "NC_EEZ = gpd.read_file('../Data/Processed/NCBuffer.shp')\n",
    "\n",
    "#Plot of Federal Waters\n",
    "ax = NC_EEZ.plot(color='lightblue', edgecolor='black', figsize=(10, 10))\n",
    "\n",
    "#Plot of All wrecks within federal waters\n",
    "NC_Wrecks.plot(ax=ax, color='lightgrey', edgecolor='black', markersize=20)\n",
    "\n",
    "#Plot of Wrecks within 20 nm of military bases\n",
    "Unique_WrecksWithinBuffer.plot(ax=ax, color='red', edgecolor='black', markersize=20)\n",
    "\n",
    "#Plot of Military Bases\n",
    "NC_CoastalBases.plot(ax=ax, color='yellow', edgecolor='black')\n",
    "plt.title('Wrecks within 20 nm of NC Mililary Bases')\n",
    "\n",
    "#Create custom legend\n",
    "handles = [\n",
    "    plt.Line2D([0], [0], marker='o', color='lightblue', label='Study Area', markersize=10),\n",
    "    plt.Line2D([0], [0], marker='o', color='lightgrey', label='Wrecks within Study Area', markersize=10),\n",
    "    plt.Line2D([0], [0], marker='o', color='red', label='Wrecks within 20 nm of Military Bases', markersize=10),\n",
    "    plt.Line2D([0], [0], marker='o', color='yellow', label='Military Bases', markersize=10)\n",
    "]\n",
    "\n",
    "#Adding the legend\n",
    "ax.legend(handles=handles, loc='upper left', title='Legend')\n",
    "\n",
    "#Save plot to png\n",
    "plt.savefig('../Products/NC_Military_Wrecks.png', dpi=300)"
   ]
  },
  {
   "cell_type": "code",
   "execution_count": null,
   "id": "17eeed8b",
   "metadata": {},
   "outputs": [],
   "source": []
  }
 ],
 "metadata": {
  "kernelspec": {
   "display_name": "Python 3 (ipykernel)",
   "language": "python",
   "name": "python3"
  },
  "language_info": {
   "codemirror_mode": {
    "name": "ipython",
    "version": 3
   },
   "file_extension": ".py",
   "mimetype": "text/x-python",
   "name": "python",
   "nbconvert_exporter": "python",
   "pygments_lexer": "ipython3",
   "version": "3.11.8"
  }
 },
 "nbformat": 4,
 "nbformat_minor": 5
}
